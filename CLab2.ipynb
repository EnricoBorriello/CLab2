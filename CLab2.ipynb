{
 "cells": [
  {
   "cell_type": "code",
   "execution_count": 1,
   "id": "3ddc1781-f428-4067-b606-1f8918e79fd2",
   "metadata": {},
   "outputs": [],
   "source": [
    "import random\n",
    "import matplotlib.pyplot as plt"
   ]
  },
  {
   "cell_type": "code",
   "execution_count": 2,
   "id": "bff59012-a91f-41c4-b5e9-6edae0c2c351",
   "metadata": {},
   "outputs": [],
   "source": [
    "class Deck:\n",
    "    def __init__(self, cards):\n",
    "        self.original_cards = cards[:]\n",
    "        self.reset()\n",
    "\n",
    "    def reset(self):\n",
    "        self.cards = self.original_cards[:]\n",
    "        random.shuffle(self.cards)\n",
    "\n",
    "    def flip(self, boost=0):\n",
    "        '''\n",
    "        Always flips 2 cards.\n",
    "        Accepts an optional boost argument (e.g., boost=1 → 3 cards flipped total).\n",
    "        Boost can be either bold or tough.\n",
    "        After the initial flip (2 + boost), it checks if any card contains 'w' or 'W'.\n",
    "        If so, it flips 2 more cards.\n",
    "        Returns the final list of all flipped cards.\n",
    "        '''\n",
    "        flipped = []\n",
    "\n",
    "        # Flip 2 + boost cards\n",
    "        for _ in range(2 + boost):\n",
    "            if self.cards:\n",
    "                flipped.append(self.cards.pop())\n",
    "\n",
    "        # If any card contains 'w' or 'W', flip 2 more\n",
    "        if any('w' in card.lower() for card in flipped):\n",
    "            for _ in range(2):\n",
    "                if self.cards:\n",
    "                    flipped.append(self.cards.pop())\n",
    "\n",
    "        return flipped\n",
    "\n",
    "    def remaining(self):\n",
    "        '''\n",
    "        Counts the number of cards remaining in the deck.\n",
    "        '''\n",
    "        return len(self.cards)"
   ]
  },
  {
   "cell_type": "code",
   "execution_count": 5,
   "id": "49b01b4f-4425-4edb-af8d-cae298bddb73",
   "metadata": {},
   "outputs": [],
   "source": [
    "import matplotlib.pyplot as plt\n",
    "from collections import Counter\n",
    "import random\n",
    "\n",
    "class Deck:\n",
    "    def __init__(self, cards):\n",
    "        self.original_cards = cards[:]\n",
    "        self.reset()\n",
    "\n",
    "    def reset(self):\n",
    "        self.cards = self.original_cards[:]\n",
    "        random.shuffle(self.cards)\n",
    "\n",
    "    def flip(self, boost=0):\n",
    "        '''\n",
    "        Always flips 2 cards.\n",
    "        Accepts an optional boost argument (e.g., boost=1 → 3 cards flipped total).\n",
    "        Boost can be either bold or tough.\n",
    "        After the initial flip (2 + boost), it checks if any card contains 'w' or 'W'.\n",
    "        If so, it flips 2 more cards.\n",
    "        Returns the final list of all flipped cards.\n",
    "        '''\n",
    "        flipped = []\n",
    "\n",
    "        # Flip 2 + boost cards\n",
    "        for _ in range(2 + boost):\n",
    "            if self.cards:\n",
    "                flipped.append(self.cards.pop())\n",
    "\n",
    "        # If any card contains 'w' or 'W', flip 2 more\n",
    "        if any('w' in card.lower() for card in flipped):\n",
    "            for _ in range(2):\n",
    "                if self.cards:\n",
    "                    flipped.append(self.cards.pop())\n",
    "\n",
    "        return flipped\n",
    "\n",
    "    def remaining(self):\n",
    "        '''\n",
    "        Counts the number of cards remaining in the deck.\n",
    "        '''\n",
    "        return len(self.cards)"
   ]
  },
  {
   "cell_type": "code",
   "execution_count": 33,
   "id": "a31162d2-f517-4a98-acef-250f0e6d960b",
   "metadata": {},
   "outputs": [],
   "source": [
    "def count_color_in_flip(flip_result, color):\n",
    "    \"\"\"\n",
    "    Count how many times a given color appears (case-insensitive) in a list of strings.\n",
    "    \"\"\"\n",
    "    return sum(card.lower().count(color.lower()) for card in flip_result)\n",
    "\n",
    "def run_simulations(deck_template, target_color, n_simulations=10000, boost=0):\n",
    "    counts = []\n",
    "\n",
    "    for _ in range(n_simulations):\n",
    "        deck = Deck(deck_template)  # Reset deck for each run\n",
    "        flipped = deck.flip(boost=boost)\n",
    "        count = count_color_in_flip(flipped, target_color)\n",
    "        counts.append(count)\n",
    "\n",
    "    return Counter(counts)\n",
    "\n",
    "def plot_histogram(counter, target_color):\n",
    "    total = sum(counter.values())\n",
    "    keys = sorted(counter.keys())\n",
    "    values = [counter[k] / total * 100 for k in keys]  # Convert counts to percentages\n",
    "\n",
    "    plt.figure(figsize=(8, 5))\n",
    "    plt.bar(keys, values, color='skyblue', edgecolor='black')\n",
    "    plt.xlabel(f\"Number of '{target_color}' icons flipped\", size=14)\n",
    "    plt.ylabel(\"Probability (%)\", size=14)\n",
    "    plt.title(f\"Normalized Histogram of '{target_color}' Appearances Across Simulations\")\n",
    "    plt.grid(axis='y', linestyle='--', alpha=0.7)\n",
    "\n",
    "    # Ensure only integer ticks on x-axis\n",
    "    plt.xticks(keys)  # keys are already integers from the Counter\n",
    "\n",
    "    # Add percentage labels above each bar\n",
    "    for x, y in zip(keys, values):\n",
    "        plt.text(x, y + 0.5, f\"{y:.1f}%\", ha='center', va='bottom', fontsize=9)\n",
    "\n",
    "    plt.tight_layout()\n",
    "    plt.show()"
   ]
  },
  {
   "cell_type": "code",
   "execution_count": 35,
   "id": "b70878dd-1007-4830-b612-a8ab7ec00a46",
   "metadata": {},
   "outputs": [],
   "source": [
    "cards = 10*['O']+14*['B']+2*['W']+3*['OO']+3*['BB']+8*['w']\n",
    "deck = Deck(cards)"
   ]
  },
  {
   "cell_type": "code",
   "execution_count": 37,
   "id": "42828a62-e415-4749-bab9-8b3bbca56abc",
   "metadata": {},
   "outputs": [
    {
     "data": {
      "text/plain": [
       "40"
      ]
     },
     "execution_count": 37,
     "metadata": {},
     "output_type": "execute_result"
    }
   ],
   "source": [
    "deck.remaining()"
   ]
  },
  {
   "cell_type": "code",
   "execution_count": 45,
   "id": "3d47bb6c-5605-4179-90ca-573f10fede81",
   "metadata": {},
   "outputs": [
    {
     "data": {
      "image/png": "[encoded data removed]",
      "text/plain": [
       "<Figure size 800x500 with 1 Axes>"
      ]
     },
     "metadata": {},
     "output_type": "display_data"
    }
   ],
   "source": [
    "deck_list = ['o','w','KO','b','O','k','Book','WoW','cow','Opal']\n",
    "target_color = 'k'\n",
    "boost = 1\n",
    "results = run_simulations(deck_list, target_color, n_simulations=10000, boost=boost)\n",
    "plot_histogram(results, target_color)"
   ]
  }
 ],
 "metadata": {
  "kernelspec": {
   "display_name": "Python 3 (ipykernel)",
   "language": "python",
   "name": "python3"
  },
  "language_info": {
   "codemirror_mode": {
    "name": "ipython",
    "version": 3
   },
   "file_extension": ".py",
   "mimetype": "text/x-python",
   "name": "python",
   "nbconvert_exporter": "python",
   "pygments_lexer": "ipython3",
   "version": "3.12.4"
  }
 },
 "nbformat": 4,
 "nbformat_minor": 5
}
